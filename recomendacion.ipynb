{
  "nbformat": 4,
  "nbformat_minor": 0,
  "metadata": {
    "colab": {
      "provenance": [],
      "include_colab_link": true
    },
    "kernelspec": {
      "name": "python3",
      "display_name": "Python 3"
    },
    "language_info": {
      "name": "python"
    }
  },
  "cells": [
    {
      "cell_type": "markdown",
      "metadata": {
        "id": "view-in-github",
        "colab_type": "text"
      },
      "source": [
        "<a href=\"https://colab.research.google.com/github/GuillermoArduino/MLTrabajos-Practica/blob/main/recomendacion.ipynb\" target=\"_parent\"><img src=\"https://colab.research.google.com/assets/colab-badge.svg\" alt=\"Open In Colab\"/></a>"
      ]
    },
    {
      "cell_type": "markdown",
      "source": [
        "# Sistemas de Recomendación\n",
        "\n",
        "Historia, conceptos y pruebas con surprise"
      ],
      "metadata": {
        "id": "U2UU0r1ZvnCr"
      }
    },
    {
      "cell_type": "markdown",
      "source": [
        "# **Setup**\n",
        "Run these cells to install all the packages you need to complete the remainder of the case study. This may take a few minutes, so\n",
        "please be patient."
      ],
      "metadata": {
        "id": "FLCBd_CFtgER"
      }
    },
    {
      "cell_type": "code",
      "execution_count": null,
      "metadata": {
        "colab": {
          "base_uri": "https://localhost:8080/"
        },
        "id": "RtR4qfANtatr",
        "outputId": "c198fb5d-fb96-4a7d-e283-fa3159e0462b"
      },
      "outputs": [
        {
          "output_type": "stream",
          "name": "stdout",
          "text": [
            "Collecting surprise==0.1\n",
            "  Downloading surprise-0.1-py2.py3-none-any.whl (1.8 kB)\n",
            "Collecting scikit-surprise\n",
            "  Downloading scikit-surprise-1.1.1.tar.gz (11.8 MB)\n",
            "\u001b[K     |████████████████████████████████| 11.8 MB 25.9 MB/s \n",
            "\u001b[?25hRequirement already satisfied: joblib>=0.11 in /usr/local/lib/python3.7/dist-packages (from scikit-surprise->surprise==0.1) (1.1.0)\n",
            "Requirement already satisfied: numpy>=1.11.2 in /usr/local/lib/python3.7/dist-packages (from scikit-surprise->surprise==0.1) (1.21.6)\n",
            "Requirement already satisfied: scipy>=1.0.0 in /usr/local/lib/python3.7/dist-packages (from scikit-surprise->surprise==0.1) (1.4.1)\n",
            "Requirement already satisfied: six>=1.10.0 in /usr/local/lib/python3.7/dist-packages (from scikit-surprise->surprise==0.1) (1.15.0)\n",
            "Building wheels for collected packages: scikit-surprise\n",
            "  Building wheel for scikit-surprise (setup.py) ... \u001b[?25l\u001b[?25hdone\n",
            "  Created wheel for scikit-surprise: filename=scikit_surprise-1.1.1-cp37-cp37m-linux_x86_64.whl size=1630185 sha256=bdb87fb234d788402a1d956570801f7083c506fe5efaf2377a0de4a379d75ed2\n",
            "  Stored in directory: /root/.cache/pip/wheels/76/44/74/b498c42be47b2406bd27994e16c5188e337c657025ab400c1c\n",
            "Successfully built scikit-surprise\n",
            "Installing collected packages: scikit-surprise, surprise\n",
            "Successfully installed scikit-surprise-1.1.1 surprise-0.1\n"
          ]
        }
      ],
      "source": [
        "!pip install surprise==0.1"
      ]
    },
    {
      "cell_type": "markdown",
      "source": [
        "# Import"
      ],
      "metadata": {
        "id": "bnNrFPn1wNIo"
      }
    },
    {
      "cell_type": "code",
      "source": [
        "import pandas as pd\n",
        "import matplotlib\n",
        "from surprise import Dataset, SVD, NormalPredictor, BaselineOnly, KNNBasic, NMF\n",
        "from surprise.model_selection import cross_validate, KFold"
      ],
      "metadata": {
        "id": "6llYSFgatjgo"
      },
      "execution_count": null,
      "outputs": []
    },
    {
      "cell_type": "markdown",
      "source": [
        "# Data"
      ],
      "metadata": {
        "id": "zeUvD02TwQwt"
      }
    },
    {
      "cell_type": "code",
      "source": [
        "# Your code here to load the data...\n",
        "# Load the movielens-100k dataset\n",
        "# Ref: https://surprise.readthedocs.io/en/stable/dataset.html\n",
        "data = Dataset.load_builtin('ml-100k')\n",
        "print('Data loaded')"
      ],
      "metadata": {
        "colab": {
          "base_uri": "https://localhost:8080/"
        },
        "id": "XYZ7SNDKt9Bx",
        "outputId": "1f52df23-5d05-452b-d382-5107c22ae949"
      },
      "execution_count": null,
      "outputs": [
        {
          "output_type": "stream",
          "name": "stdout",
          "text": [
            "Dataset ml-100k could not be found. Do you want to download it? [Y/n] Y\n",
            "Trying to download dataset from http://files.grouplens.org/datasets/movielens/ml-100k.zip...\n",
            "Done! Dataset ml-100k has been saved to /root/.surprise_data/ml-100k\n",
            "Data loaded\n"
          ]
        }
      ]
    },
    {
      "cell_type": "markdown",
      "source": [
        "We also want to get a sense of what the data looks like. Please create a histogram of all the ratings we have in the dataset."
      ],
      "metadata": {
        "id": "H0fTiLAAwbgw"
      }
    },
    {
      "cell_type": "markdown",
      "source": [
        "# QUESTION 1: DATA ANALYSIS\n",
        "Describe the dataset. How many ratings are in the dataset? How would you describe the distribution of ratings? Is there anything else we should observe? Make sure the histogram is visible in the notebook."
      ],
      "metadata": {
        "id": "F7E3tVVXwy3n"
      }
    },
    {
      "cell_type": "code",
      "source": [
        "# Your code here to create a ratings histogram...\n",
        "# 1. Get the ratings file from the data object\n",
        "# This is just a filename that has all the data stored in it\n",
        "ratings_file = data.ratings_file\n",
        "# 2. Load that table using pandas, a commmon python data loading tool\n",
        "# We set the column names manually here\n",
        "col_names = ['user_id', 'item_id', 'rating', 'timestamp']\n",
        "raw_data = pd.read_table(ratings_file, names=col_names)\n",
        "# Preview the data using pandas head() function\n",
        "print ('')\n",
        "print ('Some data of the raw_data DataFrame')\n",
        "print ('-----------------------------------')\n",
        "print(raw_data.head())\n",
        "print ('')\n",
        "print ('Number of rows in the DataFrame')\n",
        "print ('-------------------------------')\n",
        "print(raw_data.count())\n",
        "# 3. Get the rating column\n",
        "ratings = raw_data.rating\n",
        "# Preview the data using pandas head() function\n",
        "print ('')\n",
        "print ('Some data of the ratings DataFrame')\n",
        "print ('----------------------------------')\n",
        "print(ratings.head())\n",
        "# 4. Generate a bar plot/histogram of that data\n",
        "ratings.value_counts().sort_index().plot.pie(autopct='%1.1f%%', title='Figure 1:Ratings Distribution')\n",
        "import matplotlib.pyplot as plt\n",
        "fig, ax = plt.subplots()\n",
        "fig1, ax1 = plt.subplots()\n",
        "raw_data.groupby(['user_id']).count()['rating'].plot(kind='hist', ax=ax, title='Figure 1.1: How many users have rated?')\n",
        "raw_data.groupby(['item_id']).count()['rating'].plot(kind='hist', ax=ax1, title='Figure 1.2: How many movies have been rated?')"
      ],
      "metadata": {
        "colab": {
          "base_uri": "https://localhost:8080/",
          "height": 1000
        },
        "id": "V30xzo5suHzZ",
        "outputId": "fc2f9cbe-5ea0-4e28-f0b8-65aebb4d1e83"
      },
      "execution_count": null,
      "outputs": [
        {
          "output_type": "stream",
          "name": "stdout",
          "text": [
            "\n",
            "Some data of the raw_data DataFrame\n",
            "-----------------------------------\n",
            "   user_id  item_id  rating  timestamp\n",
            "0      196      242       3  881250949\n",
            "1      186      302       3  891717742\n",
            "2       22      377       1  878887116\n",
            "3      244       51       2  880606923\n",
            "4      166      346       1  886397596\n",
            "\n",
            "Number of rows in the DataFrame\n",
            "-------------------------------\n",
            "user_id      100000\n",
            "item_id      100000\n",
            "rating       100000\n",
            "timestamp    100000\n",
            "dtype: int64\n",
            "\n",
            "Some data of the ratings DataFrame\n",
            "----------------------------------\n",
            "0    3\n",
            "1    3\n",
            "2    1\n",
            "3    2\n",
            "4    1\n",
            "Name: rating, dtype: int64\n"
          ]
        },
        {
          "output_type": "execute_result",
          "data": {
            "text/plain": [
              "<matplotlib.axes._subplots.AxesSubplot at 0x7f5027fe0810>"
            ]
          },
          "metadata": {},
          "execution_count": 4
        },
        {
          "output_type": "display_data",
          "data": {
            "text/plain": [
              "<Figure size 432x288 with 1 Axes>"
            ],
            "image/png": "[encoded data removed]"
          },
          "metadata": {}
        },
        {
          "output_type": "display_data",
          "data": {
            "text/plain": [
              "<Figure size 432x288 with 1 Axes>"
            ],
            "image/png": "[encoded data removed]"
          },
          "metadata": {
            "needs_background": "light"
          }
        },
        {
          "output_type": "display_data",
          "data": {
            "text/plain": [
              "<Figure size 432x288 with 1 Axes>"
            ],
            "image/png": "[encoded data removed]"
          },
          "metadata": {
            "needs_background": "light"
          }
        }
      ]
    }
  ]
}